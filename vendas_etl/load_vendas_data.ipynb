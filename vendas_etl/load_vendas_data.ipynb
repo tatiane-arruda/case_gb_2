{
  "nbformat": 4,
  "nbformat_minor": 0,
  "metadata": {
    "colab": {
      "provenance": []
    },
    "kernelspec": {
      "name": "python3",
      "display_name": "Python 3"
    },
    "language_info": {
      "name": "python"
    }
  },
  "cells": [
    {
      "cell_type": "markdown",
      "source": [
        "**Engenharia de dados - Case GB 2**\n",
        "\n",
        "Este notebook desenvolvido no ambiente do Google Colab implementa o carregamento de dados de um banco de dados relacional instanciado na nuvem (PostgreSQL - GCP Cloud SQL) em tabelas de um Data Warehouse (GCP BigQuery)."
      ],
      "metadata": {
        "id": "-7UXhVJn6QWz"
      }
    },
    {
      "cell_type": "code",
      "source": [
        "from google.colab import auth\n",
        "auth.authenticate_user()"
      ],
      "metadata": {
        "id": "nbqDJ8L_7hRf"
      },
      "execution_count": 4,
      "outputs": []
    },
    {
      "cell_type": "code",
      "source": [
        "# Initialize parameters\n",
        "project_id=\"case-gb-2\"\n",
        "pg_instance = \"gb-sales-db\"\n",
        "region=\"us-central1\"\n",
        "bq_dataset=\"gb_vendas\"\n",
        "\n",
        "!gcloud config set project {project_id}"
      ],
      "metadata": {
        "colab": {
          "base_uri": "https://localhost:8080/"
        },
        "id": "KTd4fsda9GIc",
        "outputId": "6fc279ad-9364-4050-86de-9e6c95ec82cc"
      },
      "execution_count": 6,
      "outputs": [
        {
          "output_type": "stream",
          "name": "stdout",
          "text": [
            "Updated property [core/project].\n"
          ]
        }
      ]
    },
    {
      "cell_type": "code",
      "source": [
        "# grant Cloud SQL Client role to authenticated user\n",
        "current_user = !gcloud auth list --filter=status:ACTIVE --format=\"value(account)\"\n",
        "\n",
        "!gcloud projects add-iam-policy-binding {project_id} --member=user:{current_user[0]} --role=\"roles/cloudsql.client\""
      ],
      "metadata": {
        "colab": {
          "base_uri": "https://localhost:8080/"
        },
        "id": "pU_svt2o8ceI",
        "outputId": "1d265909-fe71-4c22-8ab0-8539a1bce577"
      },
      "execution_count": 7,
      "outputs": [
        {
          "output_type": "stream",
          "name": "stdout",
          "text": [
            "Updated IAM policy for project [case-gb-2].\n",
            "bindings:\n",
            "- members:\n",
            "  - serviceAccount:service-868746573412@gcp-sa-artifactregistry.iam.gserviceaccount.com\n",
            "  role: roles/artifactregistry.serviceAgent\n",
            "- members:\n",
            "  - serviceAccount:service-868746573412@gcp-sa-bigquerydatatransfer.iam.gserviceaccount.com\n",
            "  role: roles/bigquerydatatransfer.serviceAgent\n",
            "- members:\n",
            "  - serviceAccount:868746573412@cloudbuild.gserviceaccount.com\n",
            "  role: roles/cloudbuild.builds.builder\n",
            "- members:\n",
            "  - serviceAccount:service-868746573412@gcp-sa-cloudbuild.iam.gserviceaccount.com\n",
            "  role: roles/cloudbuild.serviceAgent\n",
            "- members:\n",
            "  - user:tat.arruda1@gmail.com\n",
            "  role: roles/cloudsql.client\n",
            "- members:\n",
            "  - serviceAccount:service-868746573412@cloudcomposer-accounts.iam.gserviceaccount.com\n",
            "  role: roles/composer.serviceAgent\n",
            "- members:\n",
            "  - serviceAccount:service-868746573412@compute-system.iam.gserviceaccount.com\n",
            "  role: roles/compute.serviceAgent\n",
            "- members:\n",
            "  - serviceAccount:service-868746573412@container-engine-robot.iam.gserviceaccount.com\n",
            "  role: roles/container.serviceAgent\n",
            "- members:\n",
            "  - serviceAccount:service-868746573412@containerregistry.iam.gserviceaccount.com\n",
            "  role: roles/containerregistry.ServiceAgent\n",
            "- members:\n",
            "  - serviceAccount:service-868746573412@dataflow-service-producer-prod.iam.gserviceaccount.com\n",
            "  role: roles/dataflow.serviceAgent\n",
            "- members:\n",
            "  - serviceAccount:868746573412-compute@developer.gserviceaccount.com\n",
            "  role: roles/datafusion.runner\n",
            "- members:\n",
            "  - serviceAccount:service-868746573412@gcp-sa-datafusion.iam.gserviceaccount.com\n",
            "  role: roles/datafusion.serviceAgent\n",
            "- members:\n",
            "  - serviceAccount:service-868746573412@dataproc-accounts.iam.gserviceaccount.com\n",
            "  role: roles/dataproc.serviceAgent\n",
            "- members:\n",
            "  - serviceAccount:868746573412-compute@developer.gserviceaccount.com\n",
            "  role: roles/dataproc.worker\n",
            "- members:\n",
            "  - serviceAccount:868746573412-compute@developer.gserviceaccount.com\n",
            "  - serviceAccount:868746573412@cloudservices.gserviceaccount.com\n",
            "  role: roles/editor\n",
            "- members:\n",
            "  - user:tat.arruda1@gmail.com\n",
            "  role: roles/owner\n",
            "- members:\n",
            "  - serviceAccount:service-868746573412@gcp-sa-pubsub.iam.gserviceaccount.com\n",
            "  role: roles/pubsub.serviceAgent\n",
            "etag: BwX7N8FS5tg=\n",
            "version: 1\n"
          ]
        }
      ]
    },
    {
      "cell_type": "code",
      "source": [
        "# enable Cloud SQL Admin API\n",
        "!gcloud services enable sqladmin.googleapis.com"
      ],
      "metadata": {
        "id": "ZCP9UfS08i9J"
      },
      "execution_count": 8,
      "outputs": []
    },
    {
      "cell_type": "code",
      "source": [
        "!pip install \"cloud-sql-python-connector[pg8000]\"\n",
        "from google.cloud.sql.connector import Connector\n",
        "import pandas as pd\n",
        "import datetime\n",
        "from google.cloud import bigquery\n",
        "\n",
        "INSTANCE_CONNECTION = f\"{project_id}:{region}:{pg_instance}\"\n",
        "print(f\"Your instance connection name is: {INSTANCE_CONNECTION}\")\n",
        "DB_USER = \"postgres\"\n",
        "DB_PWD = \"war1234\"\n",
        "DB_NAME = \"base_vendas\""
      ],
      "metadata": {
        "colab": {
          "base_uri": "https://localhost:8080/",
          "height": 902
        },
        "id": "6dyIhqTYtsAM",
        "outputId": "99c9e82d-d45e-4348-fc58-0609e50e77b8"
      },
      "execution_count": 9,
      "outputs": [
        {
          "output_type": "stream",
          "name": "stdout",
          "text": [
            "Looking in indexes: https://pypi.org/simple, https://us-python.pkg.dev/colab-wheels/public/simple/\n",
            "Collecting cloud-sql-python-connector[pg8000]\n",
            "  Downloading cloud_sql_python_connector-1.2.2-py2.py3-none-any.whl (35 kB)\n",
            "Requirement already satisfied: Requests in /usr/local/lib/python3.10/dist-packages (from cloud-sql-python-connector[pg8000]) (2.27.1)\n",
            "Requirement already satisfied: cryptography>=38.0.3 in /usr/local/lib/python3.10/dist-packages (from cloud-sql-python-connector[pg8000]) (40.0.2)\n",
            "Collecting aiohttp\n",
            "  Downloading aiohttp-3.8.4-cp310-cp310-manylinux_2_17_x86_64.manylinux2014_x86_64.whl (1.0 MB)\n",
            "\u001b[2K     \u001b[90m━━━━━━━━━━━━━━━━━━━━━━━━━━━━━━━━━━━━━━━━\u001b[0m \u001b[32m1.0/1.0 MB\u001b[0m \u001b[31m23.5 MB/s\u001b[0m eta \u001b[36m0:00:00\u001b[0m\n",
            "\u001b[?25hRequirement already satisfied: google-auth in /usr/local/lib/python3.10/dist-packages (from cloud-sql-python-connector[pg8000]) (2.17.3)\n",
            "Collecting pg8000==1.29.4\n",
            "  Downloading pg8000-1.29.4-py3-none-any.whl (51 kB)\n",
            "\u001b[2K     \u001b[90m━━━━━━━━━━━━━━━━━━━━━━━━━━━━━━━━━━━━━━━━\u001b[0m \u001b[32m51.4/51.4 kB\u001b[0m \u001b[31m6.2 MB/s\u001b[0m eta \u001b[36m0:00:00\u001b[0m\n",
            "\u001b[?25hRequirement already satisfied: python-dateutil>=2.8.2 in /usr/local/lib/python3.10/dist-packages (from pg8000==1.29.4->cloud-sql-python-connector[pg8000]) (2.8.2)\n",
            "Collecting scramp>=1.4.3\n",
            "  Downloading scramp-1.4.4-py3-none-any.whl (13 kB)\n",
            "Requirement already satisfied: cffi>=1.12 in /usr/local/lib/python3.10/dist-packages (from cryptography>=38.0.3->cloud-sql-python-connector[pg8000]) (1.15.1)\n",
            "Collecting async-timeout<5.0,>=4.0.0a3\n",
            "  Downloading async_timeout-4.0.2-py3-none-any.whl (5.8 kB)\n",
            "Requirement already satisfied: attrs>=17.3.0 in /usr/local/lib/python3.10/dist-packages (from aiohttp->cloud-sql-python-connector[pg8000]) (23.1.0)\n",
            "Collecting yarl<2.0,>=1.0\n",
            "  Downloading yarl-1.9.2-cp310-cp310-manylinux_2_17_x86_64.manylinux2014_x86_64.whl (268 kB)\n",
            "\u001b[2K     \u001b[90m━━━━━━━━━━━━━━━━━━━━━━━━━━━━━━━━━━━━━━\u001b[0m \u001b[32m268.8/268.8 kB\u001b[0m \u001b[31m30.8 MB/s\u001b[0m eta \u001b[36m0:00:00\u001b[0m\n",
            "\u001b[?25hCollecting frozenlist>=1.1.1\n",
            "  Downloading frozenlist-1.3.3-cp310-cp310-manylinux_2_5_x86_64.manylinux1_x86_64.manylinux_2_17_x86_64.manylinux2014_x86_64.whl (149 kB)\n",
            "\u001b[2K     \u001b[90m━━━━━━━━━━━━━━━━━━━━━━━━━━━━━━━━━━━━━━\u001b[0m \u001b[32m149.6/149.6 kB\u001b[0m \u001b[31m19.6 MB/s\u001b[0m eta \u001b[36m0:00:00\u001b[0m\n",
            "\u001b[?25hCollecting multidict<7.0,>=4.5\n",
            "  Downloading multidict-6.0.4-cp310-cp310-manylinux_2_17_x86_64.manylinux2014_x86_64.whl (114 kB)\n",
            "\u001b[2K     \u001b[90m━━━━━━━━━━━━━━━━━━━━━━━━━━━━━━━━━━━━━━\u001b[0m \u001b[32m114.5/114.5 kB\u001b[0m \u001b[31m16.5 MB/s\u001b[0m eta \u001b[36m0:00:00\u001b[0m\n",
            "\u001b[?25hRequirement already satisfied: charset-normalizer<4.0,>=2.0 in /usr/local/lib/python3.10/dist-packages (from aiohttp->cloud-sql-python-connector[pg8000]) (2.0.12)\n",
            "Collecting aiosignal>=1.1.2\n",
            "  Downloading aiosignal-1.3.1-py3-none-any.whl (7.6 kB)\n",
            "Requirement already satisfied: cachetools<6.0,>=2.0.0 in /usr/local/lib/python3.10/dist-packages (from google-auth->cloud-sql-python-connector[pg8000]) (5.3.0)\n",
            "Requirement already satisfied: six>=1.9.0 in /usr/local/lib/python3.10/dist-packages (from google-auth->cloud-sql-python-connector[pg8000]) (1.16.0)\n",
            "Requirement already satisfied: rsa<5,>=3.1.4 in /usr/local/lib/python3.10/dist-packages (from google-auth->cloud-sql-python-connector[pg8000]) (4.9)\n",
            "Requirement already satisfied: pyasn1-modules>=0.2.1 in /usr/local/lib/python3.10/dist-packages (from google-auth->cloud-sql-python-connector[pg8000]) (0.3.0)\n",
            "Requirement already satisfied: certifi>=2017.4.17 in /usr/local/lib/python3.10/dist-packages (from Requests->cloud-sql-python-connector[pg8000]) (2022.12.7)\n",
            "Requirement already satisfied: idna<4,>=2.5 in /usr/local/lib/python3.10/dist-packages (from Requests->cloud-sql-python-connector[pg8000]) (3.4)\n",
            "Requirement already satisfied: urllib3<1.27,>=1.21.1 in /usr/local/lib/python3.10/dist-packages (from Requests->cloud-sql-python-connector[pg8000]) (1.26.15)\n",
            "Requirement already satisfied: pycparser in /usr/local/lib/python3.10/dist-packages (from cffi>=1.12->cryptography>=38.0.3->cloud-sql-python-connector[pg8000]) (2.21)\n",
            "Requirement already satisfied: pyasn1<0.6.0,>=0.4.6 in /usr/local/lib/python3.10/dist-packages (from pyasn1-modules>=0.2.1->google-auth->cloud-sql-python-connector[pg8000]) (0.5.0)\n",
            "Collecting asn1crypto>=1.5.1\n",
            "  Downloading asn1crypto-1.5.1-py2.py3-none-any.whl (105 kB)\n",
            "\u001b[2K     \u001b[90m━━━━━━━━━━━━━━━━━━━━━━━━━━━━━━━━━━━━━━\u001b[0m \u001b[32m105.0/105.0 kB\u001b[0m \u001b[31m14.3 MB/s\u001b[0m eta \u001b[36m0:00:00\u001b[0m\n",
            "\u001b[?25hInstalling collected packages: asn1crypto, scramp, multidict, frozenlist, async-timeout, yarl, pg8000, aiosignal, aiohttp, cloud-sql-python-connector\n",
            "Successfully installed aiohttp-3.8.4 aiosignal-1.3.1 asn1crypto-1.5.1 async-timeout-4.0.2 cloud-sql-python-connector-1.2.2 frozenlist-1.3.3 multidict-6.0.4 pg8000-1.29.4 scramp-1.4.4 yarl-1.9.2\n"
          ]
        },
        {
          "output_type": "display_data",
          "data": {
            "application/vnd.colab-display-data+json": {
              "pip_warning": {
                "packages": [
                  "google"
                ]
              }
            }
          },
          "metadata": {}
        },
        {
          "output_type": "stream",
          "name": "stdout",
          "text": [
            "Your instance connection name is: case-gb-2:us-central1:gb-sales-db\n"
          ]
        }
      ]
    },
    {
      "cell_type": "code",
      "source": [
        "# initialize Connector object\n",
        "connector = Connector()\n",
        "\n",
        "# function to return the database connection object\n",
        "def getconn():\n",
        "    conn = connector.connect(\n",
        "        INSTANCE_CONNECTION,\n",
        "        \"pg8000\",\n",
        "        user=DB_USER,\n",
        "        password=DB_PWD,\n",
        "        db=DB_NAME\n",
        "    )\n",
        "    return conn"
      ],
      "metadata": {
        "id": "tFMxEDEsumHG"
      },
      "execution_count": 10,
      "outputs": []
    },
    {
      "cell_type": "code",
      "source": [
        "with getconn() as db_conn:\n",
        "\n",
        "###  a. Tabela 1: Consolidado de vendas por ano e mês;\n",
        "  consolidado_1_query = pd.read_sql_query(\"\"\"\n",
        "          SELECT\n",
        "            v.id_marca, \n",
        "            v.marca, \n",
        "            v.id_linha, \n",
        "            v.linha,\n",
        "            DATE_PART('month',TO_DATE(v.DATA_VENDA,'DD/MM/YYYY')) AS mes, \n",
        "            DATE_PART('year',TO_DATE(v.DATA_VENDA,'DD/MM/YYYY')) AS ano, \n",
        "            SUM(v.qtd_venda) AS qtd_venda \n",
        "          FROM vendas_gerais v \n",
        "          GROUP BY v.id_marca, v.marca, v.id_linha, v.linha, v.data_venda\n",
        "          \"\"\", db_conn)\n",
        "  \n",
        "  consolidado_1_df = pd.DataFrame(consolidado_1_query, columns = ['id_marca', 'marca', 'id_linha', 'linha', 'mes', 'ano', 'qtd_venda'])\n",
        "\n",
        "###  b. Tabela 2: Consolidado de vendas por marca e linha;\n",
        "  \n",
        "  consolidado_2_query = pd.read_sql_query(\"\"\"\n",
        "        SELECT\n",
        "          v.id_marca, \n",
        "          v.marca, \n",
        "          v.id_linha, \n",
        "          v.linha, \n",
        "          SUM(v.qtd_venda) AS qtd_venda\n",
        "        FROM vendas_gerais v \n",
        "        GROUP BY v.id_marca, v.marca, v.id_linha, v.linha\"\"\", db_conn)\n",
        "  \n",
        "  consolidado_2_df = pd.DataFrame(consolidado_2_query, columns = ['id_marca', 'marca', 'id_linha', 'linha', 'qtd_venda'])\n",
        "  \n",
        "##  c. Tabela 3: Consolidado de vendas por marca, ano e mês; \n",
        "\n",
        "  consolidado_3_query = pd.read_sql_query(\"\"\"\n",
        "      SELECT\n",
        "        v.id_marca, \n",
        "        v.marca,  \n",
        "        DATE_PART('month',TO_DATE(v.data_venda,'DD/MM/YYYY')) AS mes, \n",
        "        DATE_PART('year',TO_DATE(v.data_venda,'DD/MM/YYYY')) AS ano, \n",
        "        SUM(v.qtd_venda) AS qtd_venda\n",
        "      FROM vendas_gerais v \n",
        "      GROUP BY v.id_marca, v.marca, v.data_venda\"\"\", db_conn)\n",
        "  \n",
        "  consolidado_3_df = pd.DataFrame(consolidado_3_query, columns = ['id_marca', 'marca','mes','ano','qtd_venda'])\n",
        " \n",
        "## d. Tabela 4: Consolidado de vendas por linha, ano e mês;\n",
        " \n",
        "  consolidado_4_query = pd.read_sql_query(\"\"\"\n",
        "      SELECT\n",
        "        v.id_linha, \n",
        "        v.linha,  \n",
        "        DATE_PART('month',TO_DATE(v.data_venda,'DD/MM/YYYY')) AS mes, \n",
        "        DATE_PART('year',TO_DATE(v.data_venda,'DD/MM/YYYY')) AS ano, \n",
        "        SUM(v.qtd_venda) AS qtd_venda\n",
        "      FROM vendas_gerais v \n",
        "      GROUP BY v.id_linha, v.linha, v.data_venda\"\"\", db_conn)\n",
        "  \n",
        "  consolidado_4_df = pd.DataFrame(consolidado_4_query, columns = ['id_linha', 'linha','mes','ano','qtd_venda'])\n",
        "\n",
        "# Construct a BigQuery client object.\n",
        "client = bigquery.Client(project_id)"
      ],
      "metadata": {
        "colab": {
          "base_uri": "https://localhost:8080/"
        },
        "id": "KVFG6nkewDRX",
        "outputId": "64d33f81-b21a-411a-960b-1ab3b61613e7"
      },
      "execution_count": 11,
      "outputs": [
        {
          "output_type": "stream",
          "name": "stderr",
          "text": [
            "<ipython-input-11-390e669deb69>:6: UserWarning: pandas only supports SQLAlchemy connectable (engine/connection) or database string URI or sqlite3 DBAPI2 connection. Other DBAPI2 objects are not tested. Please consider using SQLAlchemy.\n",
            "  consolidado_1_query = pd.read_sql_query(\"\"\"\n",
            "<ipython-input-11-390e669deb69>:24: UserWarning: pandas only supports SQLAlchemy connectable (engine/connection) or database string URI or sqlite3 DBAPI2 connection. Other DBAPI2 objects are not tested. Please consider using SQLAlchemy.\n",
            "  consolidado_2_query = pd.read_sql_query(\"\"\"\n",
            "<ipython-input-11-390e669deb69>:38: UserWarning: pandas only supports SQLAlchemy connectable (engine/connection) or database string URI or sqlite3 DBAPI2 connection. Other DBAPI2 objects are not tested. Please consider using SQLAlchemy.\n",
            "  consolidado_3_query = pd.read_sql_query(\"\"\"\n",
            "<ipython-input-11-390e669deb69>:52: UserWarning: pandas only supports SQLAlchemy connectable (engine/connection) or database string URI or sqlite3 DBAPI2 connection. Other DBAPI2 objects are not tested. Please consider using SQLAlchemy.\n",
            "  consolidado_4_query = pd.read_sql_query(\"\"\"\n",
            "<ipython-input-11-390e669deb69>:65: UserWarning: pandas only supports SQLAlchemy connectable (engine/connection) or database string URI or sqlite3 DBAPI2 connection. Other DBAPI2 objects are not tested. Please consider using SQLAlchemy.\n",
            "  vendas_query = pd.read_sql_query(\"\"\"\n"
          ]
        }
      ]
    },
    {
      "cell_type": "code",
      "source": [
        "### Consolidado 1  \n",
        "# Consolidado de vendas por ano e mês;\n",
        "\n",
        "# check dtypes \n",
        "# consolidado_1_df.dtypes\n",
        "\n",
        "table_id=f\"{bq_dataset}.consolidado_1_vendas\"\n",
        "\n",
        "job_config_1 = bigquery.LoadJobConfig(\n",
        "    schema=[\n",
        "        bigquery.SchemaField(\"id_marca\", bigquery.enums.SqlTypeNames.STRING),\n",
        "        bigquery.SchemaField(\"marca\", bigquery.enums.SqlTypeNames.STRING),\n",
        "        bigquery.SchemaField(\"id_linha\", bigquery.enums.SqlTypeNames.STRING),\n",
        "        bigquery.SchemaField(\"linha\", bigquery.enums.SqlTypeNames.STRING),\n",
        "        bigquery.SchemaField(\"mes\", bigquery.enums.SqlTypeNames.INT64),\n",
        "        bigquery.SchemaField(\"ano\", bigquery.enums.SqlTypeNames.INT64),\n",
        "        bigquery.SchemaField(\"qtd_venda\", bigquery.enums.SqlTypeNames.INT64)\n",
        "    ],\n",
        "    write_disposition=\"WRITE_TRUNCATE\",\n",
        ")\n",
        "\n",
        "job = client.load_table_from_dataframe(\n",
        "    consolidado_1_df, \n",
        "    table_id, \n",
        "    job_config=job_config_1\n",
        ")  \n",
        "\n",
        "job.result()"
      ],
      "metadata": {
        "colab": {
          "base_uri": "https://localhost:8080/"
        },
        "id": "QNuWABQjvNo-",
        "outputId": "0d3e9ccc-2f9f-446a-d8a0-548d6a0b066a"
      },
      "execution_count": 12,
      "outputs": [
        {
          "output_type": "execute_result",
          "data": {
            "text/plain": [
              "LoadJob<project=case-gb-2, location=us-central1, id=13913d52-b594-498e-a32f-f9f5973a75aa>"
            ]
          },
          "metadata": {},
          "execution_count": 12
        }
      ]
    },
    {
      "cell_type": "code",
      "source": [
        "### Consolidado 2 \n",
        "\n",
        "# check dtypes \n",
        "# consolidado_2_df.dtypes\n",
        "\n",
        "table_id=f\"{bq_dataset}.consolidado_2_vendas\"\n",
        "\n",
        "job_config_2 = bigquery.LoadJobConfig(\n",
        "    schema=[\n",
        "        bigquery.SchemaField(\"id_marca\", bigquery.enums.SqlTypeNames.STRING),\n",
        "        bigquery.SchemaField(\"marca\", bigquery.enums.SqlTypeNames.STRING),\n",
        "        bigquery.SchemaField(\"id_linha\", bigquery.enums.SqlTypeNames.STRING),\n",
        "        bigquery.SchemaField(\"linha\", bigquery.enums.SqlTypeNames.STRING),\n",
        "        bigquery.SchemaField(\"qtd_venda\", bigquery.enums.SqlTypeNames.INT64)\n",
        "    ],\n",
        "    write_disposition=\"WRITE_TRUNCATE\",\n",
        ")\n",
        "\n",
        "job = client.load_table_from_dataframe(\n",
        "    consolidado_2_df, \n",
        "    table_id, \n",
        "    job_config=job_config_2\n",
        ")  \n",
        "\n",
        "job.result()"
      ],
      "metadata": {
        "colab": {
          "base_uri": "https://localhost:8080/"
        },
        "id": "NaUv03eI8VY5",
        "outputId": "8ec0d966-6e5f-42b1-998c-dd12ab2ea1be"
      },
      "execution_count": 13,
      "outputs": [
        {
          "output_type": "execute_result",
          "data": {
            "text/plain": [
              "LoadJob<project=case-gb-2, location=us-central1, id=349d5a36-516f-40c9-a60d-5006aabf1b33>"
            ]
          },
          "metadata": {},
          "execution_count": 13
        }
      ]
    },
    {
      "cell_type": "code",
      "source": [
        "### Consolidado 3 \n",
        "\n",
        "# check dtypes \n",
        "# consolidado_3_df.dtypes\n",
        "\n",
        "table_id=f\"{bq_dataset}.consolidado_3_vendas\"\n",
        "\n",
        "job_config_3 = bigquery.LoadJobConfig(\n",
        "    schema=[\n",
        "        bigquery.SchemaField(\"id_marca\", bigquery.enums.SqlTypeNames.STRING),\n",
        "        bigquery.SchemaField(\"marca\", bigquery.enums.SqlTypeNames.STRING),\n",
        "        bigquery.SchemaField(\"mes\", bigquery.enums.SqlTypeNames.INT64),\n",
        "        bigquery.SchemaField(\"ano\", bigquery.enums.SqlTypeNames.INT64),\n",
        "        bigquery.SchemaField(\"qtd_venda\", bigquery.enums.SqlTypeNames.INT64)\n",
        "    ],\n",
        "    write_disposition=\"WRITE_TRUNCATE\",\n",
        ")\n",
        "\n",
        "job = client.load_table_from_dataframe(\n",
        "    consolidado_3_df, \n",
        "    table_id, \n",
        "    job_config=job_config_3\n",
        ") \n",
        "\n",
        "job.result()"
      ],
      "metadata": {
        "colab": {
          "base_uri": "https://localhost:8080/"
        },
        "id": "lS8tDUvBAXhq",
        "outputId": "86b94a32-e75b-4f58-f049-15a7e52fb103"
      },
      "execution_count": 14,
      "outputs": [
        {
          "output_type": "execute_result",
          "data": {
            "text/plain": [
              "LoadJob<project=case-gb-2, location=us-central1, id=b29d3df6-aeec-49af-84b9-ff65c09be85e>"
            ]
          },
          "metadata": {},
          "execution_count": 14
        }
      ]
    },
    {
      "cell_type": "code",
      "source": [
        "### Consolidado 4 \n",
        "\n",
        "# check dtypes \n",
        "# consolidado_4_df.dtypes\n",
        "\n",
        "table_id=f\"{bq_dataset}.consolidado_4_vendas\"\n",
        "\n",
        "job_config_4 = bigquery.LoadJobConfig(\n",
        "    schema=[\n",
        "        bigquery.SchemaField(\"id_linha\", bigquery.enums.SqlTypeNames.STRING),\n",
        "        bigquery.SchemaField(\"linha\", bigquery.enums.SqlTypeNames.STRING),\n",
        "        bigquery.SchemaField(\"mes\", bigquery.enums.SqlTypeNames.INT64),\n",
        "        bigquery.SchemaField(\"ano\", bigquery.enums.SqlTypeNames.INT64),\n",
        "        bigquery.SchemaField(\"qtd_venda\", bigquery.enums.SqlTypeNames.INT64)\n",
        "    ],\n",
        "    write_disposition=\"WRITE_TRUNCATE\",\n",
        ")\n",
        "\n",
        "job = client.load_table_from_dataframe(\n",
        "    consolidado_4_df, \n",
        "    table_id, \n",
        "    job_config=job_config_4\n",
        ") \n",
        "\n",
        "job.result() "
      ],
      "metadata": {
        "colab": {
          "base_uri": "https://localhost:8080/"
        },
        "id": "xDPIzE5lAYAJ",
        "outputId": "9372ebab-c2b3-4835-a8b8-cc9f36223ee3"
      },
      "execution_count": 15,
      "outputs": [
        {
          "output_type": "execute_result",
          "data": {
            "text/plain": [
              "LoadJob<project=case-gb-2, location=us-central1, id=8fdbd586-df68-44ee-aeef-cdc2db042f11>"
            ]
          },
          "metadata": {},
          "execution_count": 15
        }
      ]
    }
  ]
}